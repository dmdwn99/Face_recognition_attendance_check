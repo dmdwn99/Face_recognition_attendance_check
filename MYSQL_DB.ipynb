{
  "nbformat": 4,
  "nbformat_minor": 0,
  "metadata": {
    "colab": {
      "name": "MYSQL_DB.ipynb",
      "provenance": [],
      "authorship_tag": "ABX9TyMuk0isIiZ3SUiyqk++JYX5",
      "include_colab_link": true
    },
    "kernelspec": {
      "name": "python3",
      "display_name": "Python 3"
    },
    "language_info": {
      "name": "python"
    }
  },
  "cells": [
    {
      "cell_type": "markdown",
      "metadata": {
        "id": "view-in-github",
        "colab_type": "text"
      },
      "source": [
        "<a href=\"https://colab.research.google.com/github/dmdwn99/Face_recognition_attendance_check/blob/heeju/MYSQL_DB.ipynb\" target=\"_parent\"><img src=\"https://colab.research.google.com/assets/colab-badge.svg\" alt=\"Open In Colab\"/></a>"
      ]
    },
    {
      "cell_type": "code",
      "execution_count": null,
      "metadata": {
        "id": "nH4PtXM3Sbha"
      },
      "outputs": [],
      "source": [
        "import pymysql\n",
        "\n",
        "db_conn = pymysql.connect(\n",
        "        host='localhost', \n",
        "        port=3306, \n",
        "        user='ryureeru', \n",
        "        passwd='ryu2bread', \n",
        "        db='tmp_db', \n",
        "        charset='utf8')\n",
        "\n",
        "tmp_db = db_conn.cursor()\n",
        "tmp_db"
      ]
    },
    {
      "cell_type": "markdown",
      "source": [
        "참고 https://blog.naver.com/pjok1122/221539169731"
      ],
      "metadata": {
        "id": "pGgk0NOaW7V5"
      }
    },
    {
      "cell_type": "code",
      "source": [
        "# 기존 테이블 수 확인\n",
        "sql = 'SHOW TABLES;' # tmp 할 것\n",
        "tmp_db.execute(sql)"
      ],
      "metadata": {
        "id": "AfzDnmaWSeG0"
      },
      "execution_count": null,
      "outputs": []
    },
    {
      "cell_type": "code",
      "source": [
        "# user_info table 생성\n",
        "sql = \"\"\"\n",
        "CREATE TABLE user_info (\n",
        "    NUMBER INT UNSIGNED NOT NULL AUTO_INCREMENT,\n",
        "    USER_ID VARCHAR(100) NOT NULL,\n",
        "    USER_PW VARCHAR(100) NOT NULL,\n",
        "    PRIMARY KEY(NUMBER)\n",
        ");\n",
        "\"\"\"\n",
        "\n",
        "tmp_db.execute(sql)\n",
        "db_conn.commit() # 데이터베이스를 변경하는 명령은 commit() 해주기"
      ],
      "metadata": {
        "id": "F3XmErstSn-Z"
      },
      "execution_count": null,
      "outputs": []
    },
    {
      "cell_type": "code",
      "source": [
        "# user_check table 생성\n",
        "CREATE TABLE user_check (\n",
        "    WEEK VARCHAR(20) NOT NULL\n",
        "    USER_ID VARCHAR(100) NOT NULL,\n",
        "    DATE_CHECK DATE NOT NULL,\n",
        "    CHECK_CHECK VARCHAR(20) NOT NULL\n",
        ");"
      ],
      "metadata": {
        "id": "eFGyfQNnSvEa"
      },
      "execution_count": null,
      "outputs": []
    },
    {
      "cell_type": "code",
      "source": [
        "# 테이블 확인\n",
        "sql = 'SHOW TABLES;'\n",
        "tmp_db.execute(sql)"
      ],
      "metadata": {
        "id": "8VE_bLoYWyBh"
      },
      "execution_count": null,
      "outputs": []
    },
    {
      "cell_type": "markdown",
      "source": [
        "테이블에 데이터 넣기"
      ],
      "metadata": {
        "id": "ONX_nLoaXPr0"
      }
    },
    {
      "cell_type": "code",
      "source": [
        "user_id = '18011787' #희주\n",
        "user_pw = '1111'"
      ],
      "metadata": {
        "id": "utm9QDKmXJLE"
      },
      "execution_count": null,
      "outputs": []
    },
    {
      "cell_type": "code",
      "source": [
        "user_id = '18011886' #응주\n",
        "user_pw = '1111'"
      ],
      "metadata": {
        "id": "CXWAsalDXVQx"
      },
      "execution_count": null,
      "outputs": []
    },
    {
      "cell_type": "code",
      "source": [
        "user_id = '19011745' #원석\n",
        "user_pw = '1111' "
      ],
      "metadata": {
        "id": "6sZ-XcpWXX9l"
      },
      "execution_count": null,
      "outputs": []
    },
    {
      "cell_type": "code",
      "source": [
        "user_id = '19013231' #도경\n",
        "user_pw = '1111'"
      ],
      "metadata": {
        "id": "u8vgbL00XYWj"
      },
      "execution_count": null,
      "outputs": []
    },
    {
      "cell_type": "code",
      "source": [
        "user_id = '20011918' #해리\n",
        "user_pw = '1111'"
      ],
      "metadata": {
        "id": "dbek4G-EXYyh"
      },
      "execution_count": null,
      "outputs": []
    },
    {
      "cell_type": "code",
      "source": [
        ""
      ],
      "metadata": {
        "id": "nmGINkbkaY_i"
      },
      "execution_count": null,
      "outputs": []
    },
    {
      "cell_type": "code",
      "source": [
        "sql = \"INSERT INTO user_info (USER_ID, USER_PW) VALUES ('%s', '%s')\" % (str(user_id), str(user_pw))\n",
        "tmp_db.execute(sql)\n",
        "db_conn.commit() # 데이터베이스를 변경하는 명령은 commit() 해주기"
      ],
      "metadata": {
        "id": "9tdRiq9qXiqh"
      },
      "execution_count": null,
      "outputs": []
    },
    {
      "cell_type": "code",
      "source": [
        "# 테이블 데이터 조회\n",
        "sql = \"SELECT * FROM user_info\"\n",
        "tmp_db.execute(sql)\n",
        "results = tmp_db.fetchall()\n",
        "for result in results:\n",
        "    print (result, type(result))"
      ],
      "metadata": {
        "id": "shRjUwX_X-P3"
      },
      "execution_count": null,
      "outputs": []
    },
    {
      "cell_type": "markdown",
      "source": [
        "테이블에 데이터 넣기 2"
      ],
      "metadata": {
        "id": "9RQUDYYEaZjI"
      }
    },
    {
      "cell_type": "code",
      "source": [
        "week = '1week'\n",
        "user_id = '18011787'\n",
        "date_check = '2022-08-10'\n",
        "check_check = 'X'"
      ],
      "metadata": {
        "id": "ltnLKQBSaNuq"
      },
      "execution_count": null,
      "outputs": []
    },
    {
      "cell_type": "code",
      "source": [
        "week = '2week'\n",
        "user_id = '18011787'\n",
        "date_check = '2022-08-17'\n",
        "check_check = 'X'"
      ],
      "metadata": {
        "id": "aj64afG0aPVa"
      },
      "execution_count": null,
      "outputs": []
    },
    {
      "cell_type": "code",
      "source": [
        "week = '3week'\n",
        "user_id = '18011787'\n",
        "date_check = '2022-08-24'\n",
        "check_check = 'X'"
      ],
      "metadata": {
        "id": "6CYc_7RoaRRE"
      },
      "execution_count": null,
      "outputs": []
    },
    {
      "cell_type": "code",
      "source": [
        "sql = \"INSERT INTO user_check (WEEK, USER_ID, DATE_CHECK, CHECK_CHECK) VALUES ('%s', '%s', '%s', '%s')\" % (str(week), str(user_id), str(date_check), str(check_check))\n",
        "tmp_db.execute(sql)\n",
        "db_conn.commit() # 데이터베이스를 변경하는 명령은 commit() 해주기"
      ],
      "metadata": {
        "id": "Y9-NEU2oaVcC"
      },
      "execution_count": null,
      "outputs": []
    },
    {
      "cell_type": "code",
      "source": [
        "# 테이블 데이터 조회\n",
        "sql = \"SELECT * FROM user_info\"\n",
        "tmp_db.execute(sql)\n",
        "results = tmp_db.fetchall()\n",
        "for result in results:\n",
        "    print (result, type(result))"
      ],
      "metadata": {
        "id": "6qwSeK5kafjv"
      },
      "execution_count": null,
      "outputs": []
    }
  ]
}